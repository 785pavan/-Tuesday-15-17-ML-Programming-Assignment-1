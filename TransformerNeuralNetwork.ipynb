{
  "nbformat": 4,
  "nbformat_minor": 0,
  "metadata": {
    "colab": {
      "name": "TransformerNeuralNetwork.ipynb",
      "version": "0.3.2",
      "provenance": [],
      "collapsed_sections": [],
      "include_colab_link": true
    },
    "kernelspec": {
      "name": "python3",
      "display_name": "Python 3"
    }
  },
  "cells": [
    {
      "cell_type": "markdown",
      "metadata": {
        "id": "view-in-github",
        "colab_type": "text"
      },
      "source": [
        "<a href=\"https://colab.research.google.com/github/785pavan/-Tuesday-15-17-ML-Programming-Assignment-1/blob/master/TransformerNeuralNetwork.ipynb\" target=\"_parent\"><img src=\"https://colab.research.google.com/assets/colab-badge.svg\" alt=\"Open In Colab\"/></a>"
      ]
    },
    {
      "cell_type": "code",
      "metadata": {
        "id": "FxbGfVJeyctf",
        "colab_type": "code",
        "colab": {}
      },
      "source": [
        "import numpy as np\n",
        "import matplotlib.pyplot as plt\n",
        "import pandas as pd\n",
        "import os\n",
        "from sklearn.preprocessing import MinMaxScaler"
      ],
      "execution_count": 0,
      "outputs": []
    },
    {
      "cell_type": "code",
      "metadata": {
        "id": "jxwN3hUa0QRS",
        "colab_type": "code",
        "colab": {
          "base_uri": "https://localhost:8080/",
          "height": 134
        },
        "outputId": "1c93280c-91c4-4b6c-ba81-80147762ea5b"
      },
      "source": [
        "df = pd.read_csv('AAPL.csv',decimal=',',usecols=['Date','Open','High','Low','Close','Volume'],na_values='.')\n",
        "df.dtypes\n",
        "df.loc[df.Open == '.'] = -1.0\n",
        "df[['Open']] = df[['Open']].apply(pd.to_numeric)\n",
        "df.loc[df.High == '.'] = -1.0\n",
        "df[['High']] = df[['High']].apply(pd.to_numeric)\n",
        "df.loc[df.Low == '.'] = -1.0\n",
        "df[['Low']] = df[['Low']].apply(pd.to_numeric)\n",
        "df.loc[df.Close == '.'] = -1.0\n",
        "df[['Close']] = df[['Close']].apply(pd.to_numeric)\n",
        "df.dtypes"
      ],
      "execution_count": 30,
      "outputs": [
        {
          "output_type": "execute_result",
          "data": {
            "text/plain": [
              "Date       object\n",
              "Open      float64\n",
              "High      float64\n",
              "Low       float64\n",
              "Close     float64\n",
              "Volume    float64\n",
              "dtype: object"
            ]
          },
          "metadata": {
            "tags": []
          },
          "execution_count": 30
        }
      ]
    },
    {
      "cell_type": "code",
      "metadata": {
        "id": "zXv7jVET20RK",
        "colab_type": "code",
        "colab": {
          "base_uri": "https://localhost:8080/",
          "height": 195
        },
        "outputId": "e58d6eb9-6872-4e85-aa5d-98a4ec4f05a3"
      },
      "source": [
        "df = df.sort_values('Date')\n",
        "df.head()"
      ],
      "execution_count": 6,
      "outputs": [
        {
          "output_type": "execute_result",
          "data": {
            "text/html": [
              "<div>\n",
              "<style scoped>\n",
              "    .dataframe tbody tr th:only-of-type {\n",
              "        vertical-align: middle;\n",
              "    }\n",
              "\n",
              "    .dataframe tbody tr th {\n",
              "        vertical-align: top;\n",
              "    }\n",
              "\n",
              "    .dataframe thead th {\n",
              "        text-align: right;\n",
              "    }\n",
              "</style>\n",
              "<table border=\"1\" class=\"dataframe\">\n",
              "  <thead>\n",
              "    <tr style=\"text-align: right;\">\n",
              "      <th></th>\n",
              "      <th>Date</th>\n",
              "      <th>Open</th>\n",
              "      <th>High</th>\n",
              "      <th>Low</th>\n",
              "      <th>Close</th>\n",
              "      <th>Volume</th>\n",
              "    </tr>\n",
              "  </thead>\n",
              "  <tbody>\n",
              "    <tr>\n",
              "      <th>0</th>\n",
              "      <td>2019-05-06</td>\n",
              "      <td>204.289993</td>\n",
              "      <td>208.839996</td>\n",
              "      <td>203.500000</td>\n",
              "      <td>208.479996</td>\n",
              "      <td>32443100</td>\n",
              "    </tr>\n",
              "    <tr>\n",
              "      <th>1</th>\n",
              "      <td>2019-05-07</td>\n",
              "      <td>205.880005</td>\n",
              "      <td>207.419998</td>\n",
              "      <td>200.830002</td>\n",
              "      <td>202.860001</td>\n",
              "      <td>38763700</td>\n",
              "    </tr>\n",
              "    <tr>\n",
              "      <th>2</th>\n",
              "      <td>2019-05-08</td>\n",
              "      <td>201.899994</td>\n",
              "      <td>205.339996</td>\n",
              "      <td>201.750000</td>\n",
              "      <td>202.899994</td>\n",
              "      <td>26339500</td>\n",
              "    </tr>\n",
              "    <tr>\n",
              "      <th>3</th>\n",
              "      <td>2019-05-09</td>\n",
              "      <td>200.399994</td>\n",
              "      <td>201.679993</td>\n",
              "      <td>196.660004</td>\n",
              "      <td>200.720001</td>\n",
              "      <td>34908600</td>\n",
              "    </tr>\n",
              "    <tr>\n",
              "      <th>4</th>\n",
              "      <td>2019-05-10</td>\n",
              "      <td>197.419998</td>\n",
              "      <td>198.850006</td>\n",
              "      <td>192.770004</td>\n",
              "      <td>197.179993</td>\n",
              "      <td>41208700</td>\n",
              "    </tr>\n",
              "  </tbody>\n",
              "</table>\n",
              "</div>"
            ],
            "text/plain": [
              "         Date        Open        High         Low       Close    Volume\n",
              "0  2019-05-06  204.289993  208.839996  203.500000  208.479996  32443100\n",
              "1  2019-05-07  205.880005  207.419998  200.830002  202.860001  38763700\n",
              "2  2019-05-08  201.899994  205.339996  201.750000  202.899994  26339500\n",
              "3  2019-05-09  200.399994  201.679993  196.660004  200.720001  34908600\n",
              "4  2019-05-10  197.419998  198.850006  192.770004  197.179993  41208700"
            ]
          },
          "metadata": {
            "tags": []
          },
          "execution_count": 6
        }
      ]
    },
    {
      "cell_type": "code",
      "metadata": {
        "id": "fIMJnasI3bOp",
        "colab_type": "code",
        "colab": {}
      },
      "source": [
        "plt.figure(figsize=(18,9))\n",
        "plt.plot(range(df.shape[0],(df['Low']+df['High'])/2.0)\n",
        "plt.xticks(range(0,df.shape[0],500),df['Date'].loc[::500],rotation=45)\n",
        "plt.xlabel('Date',fontsize = 18)\n",
        "plt.ylabel('MidPrice',fontsize = 18)\n",
        "plt.show()"
      ],
      "execution_count": 0,
      "outputs": []
    },
    {
      "cell_type": "code",
      "metadata": {
        "id": "m2KSM1qh4qLF",
        "colab_type": "code",
        "colab": {}
      },
      "source": [
        "df['mid'] =(df['Low']+df['High'])/2.0"
      ],
      "execution_count": 0,
      "outputs": []
    },
    {
      "cell_type": "code",
      "metadata": {
        "id": "AoGHcHaA6VzT",
        "colab_type": "code",
        "colab": {}
      },
      "source": [
        "SEQ_LEN = 60\n",
        "FUTURE_PERIOD_PREDICT = 1\n",
        "RATIO_TO_PREDICT = \"mid\""
      ],
      "execution_count": 0,
      "outputs": []
    },
    {
      "cell_type": "code",
      "metadata": {
        "id": "j7gAqfmd9fPD",
        "colab_type": "code",
        "colab": {}
      },
      "source": [
        "def clasify(current, future):\n",
        "  if float(future) > float(current):\n",
        "    return 1\n",
        "  else:\n",
        "    return 0\n",
        "  "
      ],
      "execution_count": 0,
      "outputs": []
    },
    {
      "cell_type": "code",
      "metadata": {
        "id": "3ecY7c6b96FJ",
        "colab_type": "code",
        "colab": {}
      },
      "source": [
        "df['future'] = df[RATIO_TO_PREDICT].shift(-FUTURE_PERIOD_PREDICT)"
      ],
      "execution_count": 0,
      "outputs": []
    },
    {
      "cell_type": "code",
      "metadata": {
        "id": "WpJ6vCKZ-NBZ",
        "colab_type": "code",
        "colab": {}
      },
      "source": [
        "df['target'] = list(map(clasify, df[RATIO_TO_PREDICT],df['future']))"
      ],
      "execution_count": 0,
      "outputs": []
    },
    {
      "cell_type": "code",
      "metadata": {
        "id": "ijKRzalV-qcJ",
        "colab_type": "code",
        "colab": {
          "base_uri": "https://localhost:8080/",
          "height": 195
        },
        "outputId": "c7fae1dc-493c-4a14-fb4e-85937d00a8e2"
      },
      "source": [
        "df.head()"
      ],
      "execution_count": 41,
      "outputs": [
        {
          "output_type": "execute_result",
          "data": {
            "text/html": [
              "<div>\n",
              "<style scoped>\n",
              "    .dataframe tbody tr th:only-of-type {\n",
              "        vertical-align: middle;\n",
              "    }\n",
              "\n",
              "    .dataframe tbody tr th {\n",
              "        vertical-align: top;\n",
              "    }\n",
              "\n",
              "    .dataframe thead th {\n",
              "        text-align: right;\n",
              "    }\n",
              "</style>\n",
              "<table border=\"1\" class=\"dataframe\">\n",
              "  <thead>\n",
              "    <tr style=\"text-align: right;\">\n",
              "      <th></th>\n",
              "      <th>Date</th>\n",
              "      <th>Open</th>\n",
              "      <th>High</th>\n",
              "      <th>Low</th>\n",
              "      <th>Close</th>\n",
              "      <th>Volume</th>\n",
              "      <th>mid</th>\n",
              "      <th>future</th>\n",
              "      <th>target</th>\n",
              "    </tr>\n",
              "  </thead>\n",
              "  <tbody>\n",
              "    <tr>\n",
              "      <th>0</th>\n",
              "      <td>2019-05-06</td>\n",
              "      <td>204.289993</td>\n",
              "      <td>208.839996</td>\n",
              "      <td>203.500000</td>\n",
              "      <td>208.479996</td>\n",
              "      <td>32443100.0</td>\n",
              "      <td>206.169998</td>\n",
              "      <td>204.125000</td>\n",
              "      <td>0</td>\n",
              "    </tr>\n",
              "    <tr>\n",
              "      <th>1</th>\n",
              "      <td>2019-05-07</td>\n",
              "      <td>205.880005</td>\n",
              "      <td>207.419998</td>\n",
              "      <td>200.830002</td>\n",
              "      <td>202.860001</td>\n",
              "      <td>38763700.0</td>\n",
              "      <td>204.125000</td>\n",
              "      <td>203.544998</td>\n",
              "      <td>0</td>\n",
              "    </tr>\n",
              "    <tr>\n",
              "      <th>2</th>\n",
              "      <td>2019-05-08</td>\n",
              "      <td>201.899994</td>\n",
              "      <td>205.339996</td>\n",
              "      <td>201.750000</td>\n",
              "      <td>202.899994</td>\n",
              "      <td>26339500.0</td>\n",
              "      <td>203.544998</td>\n",
              "      <td>199.169999</td>\n",
              "      <td>0</td>\n",
              "    </tr>\n",
              "    <tr>\n",
              "      <th>3</th>\n",
              "      <td>2019-05-09</td>\n",
              "      <td>200.399994</td>\n",
              "      <td>201.679993</td>\n",
              "      <td>196.660004</td>\n",
              "      <td>200.720001</td>\n",
              "      <td>34908600.0</td>\n",
              "      <td>199.169999</td>\n",
              "      <td>195.810005</td>\n",
              "      <td>0</td>\n",
              "    </tr>\n",
              "    <tr>\n",
              "      <th>4</th>\n",
              "      <td>2019-05-10</td>\n",
              "      <td>197.419998</td>\n",
              "      <td>198.850006</td>\n",
              "      <td>192.770004</td>\n",
              "      <td>197.179993</td>\n",
              "      <td>41208700.0</td>\n",
              "      <td>195.810005</td>\n",
              "      <td>186.165001</td>\n",
              "      <td>0</td>\n",
              "    </tr>\n",
              "  </tbody>\n",
              "</table>\n",
              "</div>"
            ],
            "text/plain": [
              "         Date        Open        High  ...         mid      future  target\n",
              "0  2019-05-06  204.289993  208.839996  ...  206.169998  204.125000       0\n",
              "1  2019-05-07  205.880005  207.419998  ...  204.125000  203.544998       0\n",
              "2  2019-05-08  201.899994  205.339996  ...  203.544998  199.169999       0\n",
              "3  2019-05-09  200.399994  201.679993  ...  199.169999  195.810005       0\n",
              "4  2019-05-10  197.419998  198.850006  ...  195.810005  186.165001       0\n",
              "\n",
              "[5 rows x 9 columns]"
            ]
          },
          "metadata": {
            "tags": []
          },
          "execution_count": 41
        }
      ]
    },
    {
      "cell_type": "code",
      "metadata": {
        "id": "BhLydd3d-sC_",
        "colab_type": "code",
        "colab": {}
      },
      "source": [
        ""
      ],
      "execution_count": 0,
      "outputs": []
    }
  ]
}